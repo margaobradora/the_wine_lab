{
 "cells": [
  {
   "cell_type": "code",
   "execution_count": 5,
   "metadata": {},
   "outputs": [],
   "source": [
    "from bs4 import BeautifulSoup\n",
    "import requests\n",
    "from selenium import webdriver\n",
    "from selenium.webdriver.common.by import By\n",
    "from webdriver_manager.chrome import ChromeDriverManager\n",
    "from selenium.webdriver.common.keys import Keys\n",
    "from selenium.common.exceptions import NoSuchElementException\n",
    "from time import sleep\n",
    "import pandas as pd \n",
    "from selenium.common.exceptions import StaleElementReferenceException\n",
    "from selenium.webdriver.support.ui import WebDriverWait\n",
    "from selenium.webdriver.support import expected_conditions as EC\n",
    "from selenium.common.exceptions import TimeoutException\n",
    "from selenium.webdriver.common.action_chains import ActionChains\n"
   ]
  },
  {
   "cell_type": "code",
   "execution_count": 6,
   "metadata": {},
   "outputs": [
    {
     "name": "stdout",
     "output_type": "stream",
     "text": [
      "abro navegador\n",
      "maximizo ventana\n",
      "entro a la decantalo \n",
      "acepto cookies\n",
      "rechazo notificaciones\n",
      "accedo a vinos\n",
      "accedo a españoles\n"
     ]
    },
    {
     "ename": "StaleElementReferenceException",
     "evalue": "Message: stale element reference: stale element not found\n  (Session info: chrome=120.0.6099.109); For documentation on this error, please visit: https://www.selenium.dev/documentation/webdriver/troubleshooting/errors#stale-element-reference-exception\nStacktrace:\n0   chromedriver                        0x000000010c6b3c48 chromedriver + 4852808\n1   chromedriver                        0x000000010c6ab1b3 chromedriver + 4817331\n2   chromedriver                        0x000000010c2777bd chromedriver + 411581\n3   chromedriver                        0x000000010c289332 chromedriver + 484146\n4   chromedriver                        0x000000010c27e9c4 chromedriver + 440772\n5   chromedriver                        0x000000010c27c781 chromedriver + 432001\n6   chromedriver                        0x000000010c280447 chromedriver + 447559\n7   chromedriver                        0x000000010c2805ac chromedriver + 447916\n8   chromedriver                        0x000000010c2ca233 chromedriver + 750131\n9   chromedriver                        0x000000010c2bb691 chromedriver + 689809\n10  chromedriver                        0x000000010c2f1c02 chromedriver + 912386\n11  chromedriver                        0x000000010c2bb068 chromedriver + 688232\n12  chromedriver                        0x000000010c2f225e chromedriver + 914014\n13  chromedriver                        0x000000010c310ae2 chromedriver + 1039074\n14  chromedriver                        0x000000010c2f19a3 chromedriver + 911779\n15  chromedriver                        0x000000010c2b9103 chromedriver + 680195\n16  chromedriver                        0x000000010c2ba71e chromedriver + 685854\n17  chromedriver                        0x000000010c673792 chromedriver + 4589458\n18  chromedriver                        0x000000010c67899c chromedriver + 4610460\n19  chromedriver                        0x000000010c658cb1 chromedriver + 4480177\n20  chromedriver                        0x000000010c679716 chromedriver + 4613910\n21  chromedriver                        0x000000010c64a23c chromedriver + 4420156\n22  chromedriver                        0x000000010c699798 chromedriver + 4745112\n23  chromedriver                        0x000000010c69994e chromedriver + 4745550\n24  chromedriver                        0x000000010c6aadf3 chromedriver + 4816371\n25  libsystem_pthread.dylib             0x00007ff80a9781d3 _pthread_start + 125\n26  libsystem_pthread.dylib             0x00007ff80a973bd3 thread_start + 15\n",
     "output_type": "error",
     "traceback": [
      "\u001b[0;31m---------------------------------------------------------------------------\u001b[0m",
      "\u001b[0;31mStaleElementReferenceException\u001b[0m            Traceback (most recent call last)",
      "\u001b[1;32m/Users/margaritaobrador/Adalab/Project_personal/tests_decantalo/test_name_year.ipynb Cell 2\u001b[0m line \u001b[0;36m3\n\u001b[1;32m     <a href='vscode-notebook-cell:/Users/margaritaobrador/Adalab/Project_personal/tests_decantalo/test_name_year.ipynb#W1sZmlsZQ%3D%3D?line=34'>35</a>\u001b[0m actions \u001b[39m=\u001b[39m ActionChains(driver)\n\u001b[1;32m     <a href='vscode-notebook-cell:/Users/margaritaobrador/Adalab/Project_personal/tests_decantalo/test_name_year.ipynb#W1sZmlsZQ%3D%3D?line=35'>36</a>\u001b[0m actions\u001b[39m.\u001b[39mmove_to_element(wine_element)\u001b[39m.\u001b[39mclick()\u001b[39m.\u001b[39mperform()\n\u001b[0;32m---> <a href='vscode-notebook-cell:/Users/margaritaobrador/Adalab/Project_personal/tests_decantalo/test_name_year.ipynb#W1sZmlsZQ%3D%3D?line=36'>37</a>\u001b[0m wine_element\u001b[39m.\u001b[39mclick()\n\u001b[1;32m     <a href='vscode-notebook-cell:/Users/margaritaobrador/Adalab/Project_personal/tests_decantalo/test_name_year.ipynb#W1sZmlsZQ%3D%3D?line=37'>38</a>\u001b[0m \u001b[39mprint\u001b[39m(\u001b[39m\"\u001b[39m\u001b[39mAccediendo al vino\u001b[39m\u001b[39m\"\u001b[39m)\n\u001b[1;32m     <a href='vscode-notebook-cell:/Users/margaritaobrador/Adalab/Project_personal/tests_decantalo/test_name_year.ipynb#W1sZmlsZQ%3D%3D?line=38'>39</a>\u001b[0m sleep(\u001b[39m2\u001b[39m)\n",
      "File \u001b[0;32m~/anaconda3/lib/python3.11/site-packages/selenium/webdriver/remote/webelement.py:93\u001b[0m, in \u001b[0;36mWebElement.click\u001b[0;34m(self)\u001b[0m\n\u001b[1;32m     91\u001b[0m \u001b[39mdef\u001b[39;00m \u001b[39mclick\u001b[39m(\u001b[39mself\u001b[39m) \u001b[39m-\u001b[39m\u001b[39m>\u001b[39m \u001b[39mNone\u001b[39;00m:\n\u001b[1;32m     92\u001b[0m \u001b[39m    \u001b[39m\u001b[39m\"\"\"Clicks the element.\"\"\"\u001b[39;00m\n\u001b[0;32m---> 93\u001b[0m     \u001b[39mself\u001b[39m\u001b[39m.\u001b[39m_execute(Command\u001b[39m.\u001b[39mCLICK_ELEMENT)\n",
      "File \u001b[0;32m~/anaconda3/lib/python3.11/site-packages/selenium/webdriver/remote/webelement.py:394\u001b[0m, in \u001b[0;36mWebElement._execute\u001b[0;34m(self, command, params)\u001b[0m\n\u001b[1;32m    392\u001b[0m     params \u001b[39m=\u001b[39m {}\n\u001b[1;32m    393\u001b[0m params[\u001b[39m\"\u001b[39m\u001b[39mid\u001b[39m\u001b[39m\"\u001b[39m] \u001b[39m=\u001b[39m \u001b[39mself\u001b[39m\u001b[39m.\u001b[39m_id\n\u001b[0;32m--> 394\u001b[0m \u001b[39mreturn\u001b[39;00m \u001b[39mself\u001b[39m\u001b[39m.\u001b[39m_parent\u001b[39m.\u001b[39mexecute(command, params)\n",
      "File \u001b[0;32m~/anaconda3/lib/python3.11/site-packages/selenium/webdriver/remote/webdriver.py:344\u001b[0m, in \u001b[0;36mWebDriver.execute\u001b[0;34m(self, driver_command, params)\u001b[0m\n\u001b[1;32m    342\u001b[0m response \u001b[39m=\u001b[39m \u001b[39mself\u001b[39m\u001b[39m.\u001b[39mcommand_executor\u001b[39m.\u001b[39mexecute(driver_command, params)\n\u001b[1;32m    343\u001b[0m \u001b[39mif\u001b[39;00m response:\n\u001b[0;32m--> 344\u001b[0m     \u001b[39mself\u001b[39m\u001b[39m.\u001b[39merror_handler\u001b[39m.\u001b[39mcheck_response(response)\n\u001b[1;32m    345\u001b[0m     response[\u001b[39m\"\u001b[39m\u001b[39mvalue\u001b[39m\u001b[39m\"\u001b[39m] \u001b[39m=\u001b[39m \u001b[39mself\u001b[39m\u001b[39m.\u001b[39m_unwrap_value(response\u001b[39m.\u001b[39mget(\u001b[39m\"\u001b[39m\u001b[39mvalue\u001b[39m\u001b[39m\"\u001b[39m, \u001b[39mNone\u001b[39;00m))\n\u001b[1;32m    346\u001b[0m     \u001b[39mreturn\u001b[39;00m response\n",
      "File \u001b[0;32m~/anaconda3/lib/python3.11/site-packages/selenium/webdriver/remote/errorhandler.py:229\u001b[0m, in \u001b[0;36mErrorHandler.check_response\u001b[0;34m(self, response)\u001b[0m\n\u001b[1;32m    227\u001b[0m         alert_text \u001b[39m=\u001b[39m value[\u001b[39m\"\u001b[39m\u001b[39malert\u001b[39m\u001b[39m\"\u001b[39m]\u001b[39m.\u001b[39mget(\u001b[39m\"\u001b[39m\u001b[39mtext\u001b[39m\u001b[39m\"\u001b[39m)\n\u001b[1;32m    228\u001b[0m     \u001b[39mraise\u001b[39;00m exception_class(message, screen, stacktrace, alert_text)  \u001b[39m# type: ignore[call-arg]  # mypy is not smart enough here\u001b[39;00m\n\u001b[0;32m--> 229\u001b[0m \u001b[39mraise\u001b[39;00m exception_class(message, screen, stacktrace)\n",
      "\u001b[0;31mStaleElementReferenceException\u001b[0m: Message: stale element reference: stale element not found\n  (Session info: chrome=120.0.6099.109); For documentation on this error, please visit: https://www.selenium.dev/documentation/webdriver/troubleshooting/errors#stale-element-reference-exception\nStacktrace:\n0   chromedriver                        0x000000010c6b3c48 chromedriver + 4852808\n1   chromedriver                        0x000000010c6ab1b3 chromedriver + 4817331\n2   chromedriver                        0x000000010c2777bd chromedriver + 411581\n3   chromedriver                        0x000000010c289332 chromedriver + 484146\n4   chromedriver                        0x000000010c27e9c4 chromedriver + 440772\n5   chromedriver                        0x000000010c27c781 chromedriver + 432001\n6   chromedriver                        0x000000010c280447 chromedriver + 447559\n7   chromedriver                        0x000000010c2805ac chromedriver + 447916\n8   chromedriver                        0x000000010c2ca233 chromedriver + 750131\n9   chromedriver                        0x000000010c2bb691 chromedriver + 689809\n10  chromedriver                        0x000000010c2f1c02 chromedriver + 912386\n11  chromedriver                        0x000000010c2bb068 chromedriver + 688232\n12  chromedriver                        0x000000010c2f225e chromedriver + 914014\n13  chromedriver                        0x000000010c310ae2 chromedriver + 1039074\n14  chromedriver                        0x000000010c2f19a3 chromedriver + 911779\n15  chromedriver                        0x000000010c2b9103 chromedriver + 680195\n16  chromedriver                        0x000000010c2ba71e chromedriver + 685854\n17  chromedriver                        0x000000010c673792 chromedriver + 4589458\n18  chromedriver                        0x000000010c67899c chromedriver + 4610460\n19  chromedriver                        0x000000010c658cb1 chromedriver + 4480177\n20  chromedriver                        0x000000010c679716 chromedriver + 4613910\n21  chromedriver                        0x000000010c64a23c chromedriver + 4420156\n22  chromedriver                        0x000000010c699798 chromedriver + 4745112\n23  chromedriver                        0x000000010c69994e chromedriver + 4745550\n24  chromedriver                        0x000000010c6aadf3 chromedriver + 4816371\n25  libsystem_pthread.dylib             0x00007ff80a9781d3 _pthread_start + 125\n26  libsystem_pthread.dylib             0x00007ff80a973bd3 thread_start + 15\n"
     ]
    }
   ],
   "source": [
    "driver = webdriver.Chrome()\n",
    "print(\"abro navegador\")\n",
    "sleep(2)\n",
    "driver.maximize_window()\n",
    "print(\"maximizo ventana\")\n",
    "sleep(2)\n",
    "driver.get(\"https://www.decantalo.com/es/es/\")\n",
    "print(\"entro a la decantalo \")\n",
    "#Aceptamos las cookies\n",
    "sleep(2)\n",
    "driver.find_element(By.XPATH,\"//*[@id='CybotCookiebotDialogBodyLevelButtonLevelOptinAllowAll']\").click()\n",
    "print(\"acepto cookies\")\n",
    "sleep(2)\n",
    "#rechazar notificaciones\n",
    "driver.find_element(By.XPATH,\"//*[@id='onesignal-slidedown-cancel-button']\").click()\n",
    "print(\"rechazo notificaciones\")\n",
    "sleep(2)\n",
    "#Accedemos a Vinos \n",
    "driver.find_element(By.XPATH,\"//*[@id='menu']/li[1]/a/span\").click()\n",
    "print(\"accedo a vinos\")\n",
    "sleep(2)\n",
    "#Accedemos a españoles\n",
    "driver.find_element(By.XPATH,\"//*[@id='products']/div[1]/div/div[2]/div/div/a[1]/h4\").click()\n",
    "print(\"accedo a españoles\")\n",
    "sleep(2)\n",
    "#Entro al primer vino \n",
    "\n",
    "for wine in range(1, 6): \n",
    "        try:\n",
    "\n",
    "            wine_element = driver.find_element(By.XPATH, f'//*[@id=\"js-product-list\"]/div/div[1]/article[{wine}]/div/div[1]/div/h3/a')\n",
    "            # //*[@id=\"js-product-list\"]/div/div[1]/article[1]/div/div[2]/a/img\n",
    "            #js-product-list > div > div.products > article:nth-child(1) > div > div.card-img-top.product__card-img > a > img\n",
    "            #js-product-list > div > div.products > article:nth-child(2) > div > div.card-img-top.product__card-img > a > img\n",
    "            actions = ActionChains(driver)\n",
    "            actions.move_to_element(wine_element).click().perform()\n",
    "            wine_element.click()\n",
    "            print(\"Accediendo al vino\")\n",
    "            sleep(2)\n",
    "        except NoSuchElementException:\n",
    "            print(f\"No se encontró el elemento para el vino {wine}. Saltando...\")\n",
    "            continue\n",
    "\n",
    "        try: \n",
    "\n",
    "            # Encontrar el elemento con XPath\n",
    "            elemento = driver.find_element(By.XPATH,'//*[@id=\"add-to-cart-or-refresh\"]/div[2]/h2')\n",
    "\n",
    "            # Obtener el texto del elemento\n",
    "            texto_completo = elemento.text\n",
    "\n",
    "            # Separar el nombre y el año\n",
    "            palabras = texto_completo.split()  # Dividir el texto en palabras\n",
    "\n",
    "            # El nombre será todas las palabras excepto la última\n",
    "            nombre = ' '.join(palabras[:-1])\n",
    "\n",
    "            # El año será la última palabra\n",
    "            ano = palabras[-1]\n",
    "\n",
    "            print(\"Nombre:\", nombre)  # Esto imprimirá el nombre sin el año\n",
    "            print(\"Año:\", ano)  # Esto imprimirá el año por separado\n",
    "\n",
    "        except NoSuchElementException:\n",
    "            print(f\"No se encontró. Saltando...\")\n",
    "            continue"
   ]
  }
 ],
 "metadata": {
  "kernelspec": {
   "display_name": "base",
   "language": "python",
   "name": "python3"
  },
  "language_info": {
   "codemirror_mode": {
    "name": "ipython",
    "version": 3
   },
   "file_extension": ".py",
   "mimetype": "text/x-python",
   "name": "python",
   "nbconvert_exporter": "python",
   "pygments_lexer": "ipython3",
   "version": "3.11.5"
  },
  "orig_nbformat": 4
 },
 "nbformat": 4,
 "nbformat_minor": 2
}
