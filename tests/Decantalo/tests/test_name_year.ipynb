{
 "cells": [
  {
   "cell_type": "code",
   "execution_count": 5,
   "metadata": {},
   "outputs": [],
   "source": [
    "from bs4 import BeautifulSoup\n",
    "import requests\n",
    "from selenium import webdriver\n",
    "from selenium.webdriver.common.by import By\n",
    "from webdriver_manager.chrome import ChromeDriverManager\n",
    "from selenium.webdriver.common.keys import Keys\n",
    "from selenium.common.exceptions import NoSuchElementException\n",
    "from time import sleep\n",
    "import pandas as pd \n",
    "from selenium.common.exceptions import StaleElementReferenceException\n",
    "from selenium.webdriver.support.ui import WebDriverWait\n",
    "from selenium.webdriver.support import expected_conditions as EC\n",
    "from selenium.common.exceptions import TimeoutException\n",
    "from selenium.webdriver.common.action_chains import ActionChains\n"
   ]
  },
  {
   "cell_type": "code",
   "execution_count": 2,
   "metadata": {},
   "outputs": [
    {
     "ename": "SyntaxError",
     "evalue": "invalid syntax (1366617399.py, line 32)",
     "output_type": "error",
     "traceback": [
      "\u001b[0;36m  Cell \u001b[0;32mIn[2], line 32\u001b[0;36m\u001b[0m\n\u001b[0;31m    //*[@id=\"js-product-list\"]/div/div[1]/article[1]/div/div[2]/a/img\u001b[0m\n\u001b[0m    ^\u001b[0m\n\u001b[0;31mSyntaxError\u001b[0m\u001b[0;31m:\u001b[0m invalid syntax\n"
     ]
    }
   ],
   "source": [
    "driver = webdriver.Chrome()\n",
    "print(\"abro navegador\")\n",
    "sleep(2)\n",
    "driver.maximize_window()\n",
    "print(\"maximizo ventana\")\n",
    "sleep(2)\n",
    "driver.get(\"https://www.decantalo.com/es/es/\")\n",
    "print(\"entro a la decantalo \")\n",
    "#Aceptamos las cookies\n",
    "sleep(2)\n",
    "driver.find_element(By.XPATH,\"//*[@id='CybotCookiebotDialogBodyLevelButtonLevelOptinAllowAll']\").click()\n",
    "print(\"acepto cookies\")\n",
    "sleep(2)\n",
    "#rechazar notificaciones\n",
    "driver.find_element(By.XPATH,\"//*[@id='onesignal-slidedown-cancel-button']\").click()\n",
    "print(\"rechazo notificaciones\")\n",
    "sleep(2)\n",
    "#Accedemos a Vinos \n",
    "driver.find_element(By.XPATH,\"//*[@id='menu']/li[1]/a/span\").click()\n",
    "print(\"accedo a vinos\")\n",
    "sleep(2)\n",
    "#Accedemos a españoles\n",
    "driver.find_element(By.XPATH,\"//*[@id='products']/div[1]/div/div[2]/div/div/a[1]/h4\").click()\n",
    "print(\"accedo a españoles\")\n",
    "sleep(2)\n",
    "#Entro al primer vino \n",
    "\n",
    "for wine in range(1, 6): \n",
    "        try:\n",
    "\n",
    "            wine_element = driver.find_element(By.XPATH, f'//*[@id=\"js-product-list\"]/div/div[1]/article[{wine}]/div/div[1]/div/h3/a')\n",
    "            # //*[@id=\"js-product-list\"]/div/div[1]/article[1]/div/div[2]/a/img\n",
    "            #js-product-list > div > div.products > article:nth-child(1) > div > div.card-img-top.product__card-img > a > img\n",
    "            #js-product-list > div > div.products > article:nth-child(2) > div > div.card-img-top.product__card-img > a > img\n",
    "            actions = ActionChains(driver)\n",
    "            actions.move_to_element(wine_element).click().perform()\n",
    "            wine_element.click()\n",
    "            print(\"Accediendo al vino\")\n",
    "            sleep(2)\n",
    "        except NoSuchElementException:\n",
    "            print(f\"No se encontró el elemento para el vino {wine}. Saltando...\")\n",
    "            continue\n",
    "\n",
    "        try: \n",
    "\n",
    "            # Encontrar el elemento con XPath\n",
    "            elemento = driver.find_element(By.XPATH,'//*[@id=\"add-to-cart-or-refresh\"]/div[2]/h2')\n",
    "\n",
    "            # Obtener el texto del elemento\n",
    "            texto_completo = elemento.text\n",
    "\n",
    "            # Separar el nombre y el año\n",
    "            palabras = texto_completo.split()  # Dividir el texto en palabras\n",
    "\n",
    "            # El nombre será todas las palabras excepto la última\n",
    "            nombre = ' '.join(palabras[:-1])\n",
    "\n",
    "            # El año será la última palabra\n",
    "            ano = palabras[-1]\n",
    "\n",
    "            print(\"Nombre:\", nombre)  # Esto imprimirá el nombre sin el año\n",
    "            print(\"Año:\", ano)  # Esto imprimirá el año por separado\n",
    "\n",
    "        except NoSuchElementException:\n",
    "            print(f\"No se encontró. Saltando...\")\n",
    "            continue"
   ]
  }
 ],
 "metadata": {
  "kernelspec": {
   "display_name": "base",
   "language": "python",
   "name": "python3"
  },
  "language_info": {
   "codemirror_mode": {
    "name": "ipython",
    "version": 3
   },
   "file_extension": ".py",
   "mimetype": "text/x-python",
   "name": "python",
   "nbconvert_exporter": "python",
   "pygments_lexer": "ipython3",
   "version": "3.11.5"
  },
  "orig_nbformat": 4
 },
 "nbformat": 4,
 "nbformat_minor": 2
}
