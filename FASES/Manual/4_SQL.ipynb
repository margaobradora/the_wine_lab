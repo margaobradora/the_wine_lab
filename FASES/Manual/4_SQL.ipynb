{
 "cells": [
  {
   "cell_type": "code",
   "execution_count": 1,
   "metadata": {},
   "outputs": [],
   "source": [
    "# Importar librería para la conexión con MySQL\n",
    "# -----------------------------------------------------------------------\n",
    "import mysql.connector\n",
    "from mysql.connector import errorcode\n",
    "\n",
    "\n",
    "# Importar librerías para manipulación y análisis de datos\n",
    "# -----------------------------------------------------------------------\n",
    "import pandas as pd\n",
    "import numpy as np"
   ]
  },
  {
   "cell_type": "code",
   "execution_count": 2,
   "metadata": {},
   "outputs": [
    {
     "data": {
      "text/html": [
       "<div>\n",
       "<style scoped>\n",
       "    .dataframe tbody tr th:only-of-type {\n",
       "        vertical-align: middle;\n",
       "    }\n",
       "\n",
       "    .dataframe tbody tr th {\n",
       "        vertical-align: top;\n",
       "    }\n",
       "\n",
       "    .dataframe thead th {\n",
       "        text-align: right;\n",
       "    }\n",
       "</style>\n",
       "<table border=\"1\" class=\"dataframe\">\n",
       "  <thead>\n",
       "    <tr style=\"text-align: right;\">\n",
       "      <th></th>\n",
       "      <th>name_w</th>\n",
       "      <th>year_w</th>\n",
       "      <th>price</th>\n",
       "      <th>user_score</th>\n",
       "      <th>type_w</th>\n",
       "      <th>region</th>\n",
       "      <th>alcohol_content</th>\n",
       "      <th>wine_grape</th>\n",
       "      <th>pk_score</th>\n",
       "      <th>pn_score</th>\n",
       "      <th>sk_score</th>\n",
       "    </tr>\n",
       "  </thead>\n",
       "  <tbody>\n",
       "    <tr>\n",
       "      <th>0</th>\n",
       "      <td>Ultreia Saint Jacques</td>\n",
       "      <td>2021</td>\n",
       "      <td>11.50</td>\n",
       "      <td>4.2</td>\n",
       "      <td>Vino tinto</td>\n",
       "      <td>Bierzo</td>\n",
       "      <td>13.5</td>\n",
       "      <td>Mencía</td>\n",
       "      <td>93.0</td>\n",
       "      <td>92.0</td>\n",
       "      <td>NaN</td>\n",
       "    </tr>\n",
       "    <tr>\n",
       "      <th>1</th>\n",
       "      <td>José Pariente Verdejo</td>\n",
       "      <td>2022</td>\n",
       "      <td>10.50</td>\n",
       "      <td>4.5</td>\n",
       "      <td>Vino blanco</td>\n",
       "      <td>Rueda</td>\n",
       "      <td>13.0</td>\n",
       "      <td>Verdejo</td>\n",
       "      <td>NaN</td>\n",
       "      <td>92.0</td>\n",
       "      <td>NaN</td>\n",
       "    </tr>\n",
       "    <tr>\n",
       "      <th>2</th>\n",
       "      <td>Tinto Pesquera Crianza</td>\n",
       "      <td>2020</td>\n",
       "      <td>19.30</td>\n",
       "      <td>4.6</td>\n",
       "      <td>Vino tinto</td>\n",
       "      <td>Ribera del Duero</td>\n",
       "      <td>14.5</td>\n",
       "      <td>Tempranillo</td>\n",
       "      <td>NaN</td>\n",
       "      <td>92.0</td>\n",
       "      <td>93.0</td>\n",
       "    </tr>\n",
       "    <tr>\n",
       "      <th>3</th>\n",
       "      <td>La Montesa</td>\n",
       "      <td>2020</td>\n",
       "      <td>15.35</td>\n",
       "      <td>4.3</td>\n",
       "      <td>Vino tinto</td>\n",
       "      <td>Rioja</td>\n",
       "      <td>14.0</td>\n",
       "      <td>Garnacha</td>\n",
       "      <td>93.0</td>\n",
       "      <td>93.0</td>\n",
       "      <td>94.0</td>\n",
       "    </tr>\n",
       "    <tr>\n",
       "      <th>4</th>\n",
       "      <td>Terras Gauda</td>\n",
       "      <td>2022</td>\n",
       "      <td>15.75</td>\n",
       "      <td>4.6</td>\n",
       "      <td>Vino blanco</td>\n",
       "      <td>Rías Baixas</td>\n",
       "      <td>12.0</td>\n",
       "      <td>Albariño</td>\n",
       "      <td>NaN</td>\n",
       "      <td>92.0</td>\n",
       "      <td>NaN</td>\n",
       "    </tr>\n",
       "    <tr>\n",
       "      <th>...</th>\n",
       "      <td>...</td>\n",
       "      <td>...</td>\n",
       "      <td>...</td>\n",
       "      <td>...</td>\n",
       "      <td>...</td>\n",
       "      <td>...</td>\n",
       "      <td>...</td>\n",
       "      <td>...</td>\n",
       "      <td>...</td>\n",
       "      <td>...</td>\n",
       "      <td>...</td>\n",
       "    </tr>\n",
       "    <tr>\n",
       "      <th>819</th>\n",
       "      <td>Capricho Val de Paxariñas</td>\n",
       "      <td>2022</td>\n",
       "      <td>11.95</td>\n",
       "      <td>4.8</td>\n",
       "      <td>Vino blanco</td>\n",
       "      <td>Bierzo</td>\n",
       "      <td>13.5</td>\n",
       "      <td>Godello</td>\n",
       "      <td>90.0</td>\n",
       "      <td>93.0</td>\n",
       "      <td>NaN</td>\n",
       "    </tr>\n",
       "    <tr>\n",
       "      <th>820</th>\n",
       "      <td>Campo Viejo Crianza</td>\n",
       "      <td>2020</td>\n",
       "      <td>5.75</td>\n",
       "      <td>4.5</td>\n",
       "      <td>Vino tinto</td>\n",
       "      <td>Rioja</td>\n",
       "      <td>13.5</td>\n",
       "      <td>Tempranillo</td>\n",
       "      <td>NaN</td>\n",
       "      <td>NaN</td>\n",
       "      <td>NaN</td>\n",
       "    </tr>\n",
       "    <tr>\n",
       "      <th>821</th>\n",
       "      <td>Poesia Garnacha Tinta</td>\n",
       "      <td>2021</td>\n",
       "      <td>3.90</td>\n",
       "      <td>4.1</td>\n",
       "      <td>Vino tinto</td>\n",
       "      <td>Catalunya</td>\n",
       "      <td>13.5</td>\n",
       "      <td>Garnacha</td>\n",
       "      <td>NaN</td>\n",
       "      <td>NaN</td>\n",
       "      <td>NaN</td>\n",
       "    </tr>\n",
       "    <tr>\n",
       "      <th>822</th>\n",
       "      <td>Monasterio de las Viñas Crianza</td>\n",
       "      <td>2019</td>\n",
       "      <td>5.20</td>\n",
       "      <td>5.0</td>\n",
       "      <td>Vino tinto</td>\n",
       "      <td>Cariñena</td>\n",
       "      <td>13.5</td>\n",
       "      <td>Tempranillo</td>\n",
       "      <td>NaN</td>\n",
       "      <td>NaN</td>\n",
       "      <td>NaN</td>\n",
       "    </tr>\n",
       "    <tr>\n",
       "      <th>823</th>\n",
       "      <td>Faustino V Rosado</td>\n",
       "      <td>2022</td>\n",
       "      <td>5.45</td>\n",
       "      <td>4.1</td>\n",
       "      <td>Vino rosado</td>\n",
       "      <td>Rioja</td>\n",
       "      <td>13.5</td>\n",
       "      <td>Tempranillo</td>\n",
       "      <td>NaN</td>\n",
       "      <td>NaN</td>\n",
       "      <td>NaN</td>\n",
       "    </tr>\n",
       "  </tbody>\n",
       "</table>\n",
       "<p>799 rows × 11 columns</p>\n",
       "</div>"
      ],
      "text/plain": [
       "                              name_w year_w  price  user_score       type_w  \\\n",
       "0              Ultreia Saint Jacques   2021  11.50         4.2   Vino tinto   \n",
       "1              José Pariente Verdejo   2022  10.50         4.5  Vino blanco   \n",
       "2             Tinto Pesquera Crianza   2020  19.30         4.6   Vino tinto   \n",
       "3                         La Montesa   2020  15.35         4.3   Vino tinto   \n",
       "4                       Terras Gauda   2022  15.75         4.6  Vino blanco   \n",
       "..                               ...    ...    ...         ...          ...   \n",
       "819        Capricho Val de Paxariñas   2022  11.95         4.8  Vino blanco   \n",
       "820              Campo Viejo Crianza   2020   5.75         4.5   Vino tinto   \n",
       "821            Poesia Garnacha Tinta   2021   3.90         4.1   Vino tinto   \n",
       "822  Monasterio de las Viñas Crianza   2019   5.20         5.0   Vino tinto   \n",
       "823                Faustino V Rosado   2022   5.45         4.1  Vino rosado   \n",
       "\n",
       "               region  alcohol_content   wine_grape  pk_score  pn_score  \\\n",
       "0              Bierzo             13.5       Mencía      93.0      92.0   \n",
       "1               Rueda             13.0      Verdejo       NaN      92.0   \n",
       "2    Ribera del Duero             14.5  Tempranillo       NaN      92.0   \n",
       "3               Rioja             14.0     Garnacha      93.0      93.0   \n",
       "4         Rías Baixas             12.0     Albariño       NaN      92.0   \n",
       "..                ...              ...          ...       ...       ...   \n",
       "819            Bierzo             13.5      Godello      90.0      93.0   \n",
       "820             Rioja             13.5  Tempranillo       NaN       NaN   \n",
       "821         Catalunya             13.5     Garnacha       NaN       NaN   \n",
       "822          Cariñena             13.5  Tempranillo       NaN       NaN   \n",
       "823             Rioja             13.5  Tempranillo       NaN       NaN   \n",
       "\n",
       "     sk_score  \n",
       "0         NaN  \n",
       "1         NaN  \n",
       "2        93.0  \n",
       "3        94.0  \n",
       "4         NaN  \n",
       "..        ...  \n",
       "819       NaN  \n",
       "820       NaN  \n",
       "821       NaN  \n",
       "822       NaN  \n",
       "823       NaN  \n",
       "\n",
       "[799 rows x 11 columns]"
      ]
     },
     "execution_count": 2,
     "metadata": {},
     "output_type": "execute_result"
    }
   ],
   "source": [
    "df = pd.read_csv(\"../Manual/Files/eda_final.csv\", index_col=0)\n",
    "df"
   ]
  },
  {
   "cell_type": "markdown",
   "metadata": {},
   "source": [
    "### Tabla 1"
   ]
  },
  {
   "cell_type": "code",
   "execution_count": 22,
   "metadata": {},
   "outputs": [
    {
     "data": {
      "text/html": [
       "<div>\n",
       "<style scoped>\n",
       "    .dataframe tbody tr th:only-of-type {\n",
       "        vertical-align: middle;\n",
       "    }\n",
       "\n",
       "    .dataframe tbody tr th {\n",
       "        vertical-align: top;\n",
       "    }\n",
       "\n",
       "    .dataframe thead th {\n",
       "        text-align: right;\n",
       "    }\n",
       "</style>\n",
       "<table border=\"1\" class=\"dataframe\">\n",
       "  <thead>\n",
       "    <tr style=\"text-align: right;\">\n",
       "      <th></th>\n",
       "      <th>name_w</th>\n",
       "      <th>year_w</th>\n",
       "      <th>region</th>\n",
       "    </tr>\n",
       "  </thead>\n",
       "  <tbody>\n",
       "    <tr>\n",
       "      <th>0</th>\n",
       "      <td>Ultreia Saint Jacques</td>\n",
       "      <td>2021</td>\n",
       "      <td>Bierzo</td>\n",
       "    </tr>\n",
       "    <tr>\n",
       "      <th>1</th>\n",
       "      <td>José Pariente Verdejo</td>\n",
       "      <td>2022</td>\n",
       "      <td>Rueda</td>\n",
       "    </tr>\n",
       "    <tr>\n",
       "      <th>2</th>\n",
       "      <td>Tinto Pesquera Crianza</td>\n",
       "      <td>2020</td>\n",
       "      <td>Ribera del Duero</td>\n",
       "    </tr>\n",
       "  </tbody>\n",
       "</table>\n",
       "</div>"
      ],
      "text/plain": [
       "                   name_w year_w            region\n",
       "0   Ultreia Saint Jacques   2021            Bierzo\n",
       "1   José Pariente Verdejo   2022             Rueda\n",
       "2  Tinto Pesquera Crianza   2020  Ribera del Duero"
      ]
     },
     "execution_count": 22,
     "metadata": {},
     "output_type": "execute_result"
    }
   ],
   "source": [
    "#DATA FRAME DE LA TABLA 1 - FICHA PERSONAL \n",
    "df_tabla1 = df[[\"name_w\",\"year_w\", \"region\"]]\n",
    "df_tabla1.head(3)"
   ]
  },
  {
   "cell_type": "code",
   "execution_count": 23,
   "metadata": {},
   "outputs": [
    {
     "data": {
      "text/plain": [
       "name_w    object\n",
       "year_w    object\n",
       "region    object\n",
       "dtype: object"
      ]
     },
     "execution_count": 23,
     "metadata": {},
     "output_type": "execute_result"
    }
   ],
   "source": [
    "df_tabla1.dtypes"
   ]
  },
  {
   "cell_type": "code",
   "execution_count": 24,
   "metadata": {},
   "outputs": [],
   "source": [
    "df_tabla1 = df_tabla1.fillna(0)"
   ]
  },
  {
   "cell_type": "code",
   "execution_count": 6,
   "metadata": {},
   "outputs": [],
   "source": [
    "lista_tuplas_tabla = []\n",
    "for x in df_tabla1.values:\n",
    "\n",
    "    lista_tuplas_tabla.append(tuple(x))\n",
    "    lista_tuplas_tabla"
   ]
  },
  {
   "cell_type": "code",
   "execution_count": 26,
   "metadata": {},
   "outputs": [
    {
     "name": "stdout",
     "output_type": "stream",
     "text": [
      "Error al insertar datos en MySQL: Not all parameters were used in the SQL statement\n"
     ]
    }
   ],
   "source": [
    "cnx = mysql.connector.connect (user = \"root\", \n",
    "                               password = \"AlumnaAdalab\", \n",
    "                               host='127.0.0.1',\n",
    "                               database=\"the_wine_lab\")\n",
    "\n",
    "mycursor = cnx.cursor()\n",
    "\n",
    "query_insert = \"INSERT INTO 1_wine_info (name_w, year_w, region) VALUES (%s, %s, %s)\"\n",
    "#variables en el mismo orden que scsv, tantas %s como variables tiene mi csv. \n",
    "\n",
    "\n",
    "try: \n",
    "    mycursor.executemany(query_insert, lista_tuplas_tabla)\n",
    "    #ejecuta my query, de que datos? del fichero q estan en mi lista de tuplas q he converido ariba leyendo el csv.) \n",
    "    cnx.commit()\n",
    "    print(mycursor.rowcount, \"registros insertados\")\n",
    "\n",
    "except mysql.connector.Error as error:\n",
    "    print(\"Error al insertar datos en MySQL:\", error)"
   ]
  },
  {
   "cell_type": "markdown",
   "metadata": {},
   "source": [
    "### TABLA 3 "
   ]
  },
  {
   "cell_type": "code",
   "execution_count": 27,
   "metadata": {},
   "outputs": [
    {
     "data": {
      "text/html": [
       "<div>\n",
       "<style scoped>\n",
       "    .dataframe tbody tr th:only-of-type {\n",
       "        vertical-align: middle;\n",
       "    }\n",
       "\n",
       "    .dataframe tbody tr th {\n",
       "        vertical-align: top;\n",
       "    }\n",
       "\n",
       "    .dataframe thead th {\n",
       "        text-align: right;\n",
       "    }\n",
       "</style>\n",
       "<table border=\"1\" class=\"dataframe\">\n",
       "  <thead>\n",
       "    <tr style=\"text-align: right;\">\n",
       "      <th></th>\n",
       "      <th>price</th>\n",
       "      <th>alcohol_content</th>\n",
       "      <th>wine_grape</th>\n",
       "      <th>type_w</th>\n",
       "      <th>name_w</th>\n",
       "    </tr>\n",
       "  </thead>\n",
       "  <tbody>\n",
       "    <tr>\n",
       "      <th>0</th>\n",
       "      <td>11.5</td>\n",
       "      <td>13.5</td>\n",
       "      <td>Mencía</td>\n",
       "      <td>Vino tinto</td>\n",
       "      <td>Ultreia Saint Jacques</td>\n",
       "    </tr>\n",
       "    <tr>\n",
       "      <th>1</th>\n",
       "      <td>10.5</td>\n",
       "      <td>13.0</td>\n",
       "      <td>Verdejo</td>\n",
       "      <td>Vino blanco</td>\n",
       "      <td>José Pariente Verdejo</td>\n",
       "    </tr>\n",
       "    <tr>\n",
       "      <th>2</th>\n",
       "      <td>19.3</td>\n",
       "      <td>14.5</td>\n",
       "      <td>Tempranillo</td>\n",
       "      <td>Vino tinto</td>\n",
       "      <td>Tinto Pesquera Crianza</td>\n",
       "    </tr>\n",
       "  </tbody>\n",
       "</table>\n",
       "</div>"
      ],
      "text/plain": [
       "   price  alcohol_content   wine_grape       type_w                  name_w\n",
       "0   11.5             13.5       Mencía   Vino tinto   Ultreia Saint Jacques\n",
       "1   10.5             13.0      Verdejo  Vino blanco   José Pariente Verdejo\n",
       "2   19.3             14.5  Tempranillo   Vino tinto  Tinto Pesquera Crianza"
      ]
     },
     "execution_count": 27,
     "metadata": {},
     "output_type": "execute_result"
    }
   ],
   "source": [
    "df_tabla3 = df[[\"price\", \"alcohol_content\", \"wine_grape\", \"type_w\", \"name_w\"]]\n",
    "df_tabla3.head(3)"
   ]
  },
  {
   "cell_type": "code",
   "execution_count": 28,
   "metadata": {},
   "outputs": [],
   "source": [
    "df_tabla3 = df_tabla3.fillna(0)"
   ]
  },
  {
   "cell_type": "code",
   "execution_count": 10,
   "metadata": {},
   "outputs": [
    {
     "data": {
      "text/plain": [
       "price              float64\n",
       "alcohol_content    float64\n",
       "wine_grape          object\n",
       "type_w              object\n",
       "name_w              object\n",
       "dtype: object"
      ]
     },
     "execution_count": 10,
     "metadata": {},
     "output_type": "execute_result"
    }
   ],
   "source": [
    "df_tabla3.dtypes"
   ]
  },
  {
   "cell_type": "code",
   "execution_count": 29,
   "metadata": {},
   "outputs": [],
   "source": [
    "lista_tuplas_tabla = []\n",
    "for x in df_tabla3.values:\n",
    "\n",
    "    lista_tuplas_tabla.append(tuple(x))\n",
    "    lista_tuplas_tabla"
   ]
  },
  {
   "cell_type": "code",
   "execution_count": 30,
   "metadata": {},
   "outputs": [
    {
     "name": "stdout",
     "output_type": "stream",
     "text": [
      "799 registros insertados\n"
     ]
    }
   ],
   "source": [
    "cnx = mysql.connector.connect (user = \"root\", \n",
    "                               password = \"AlumnaAdalab\", \n",
    "                               host='127.0.0.1',\n",
    "                               database=\"the_wine_lab\")\n",
    "\n",
    "mycursor = cnx.cursor()\n",
    "\n",
    "query_insert = \"INSERT INTO 3_wine_type_price (price, alcohol_content, wine_grape, type_w, 1_wine_info_name_w) VALUES (%s, %s, %s, %s, %s)\"\n",
    "#variables en el mismo orden que scsv, tantas %s como variables tiene mi csv. \n",
    "\n",
    "\n",
    "try: \n",
    "    mycursor.executemany(query_insert, lista_tuplas_tabla)\n",
    "    #ejecuta my query, de que datos? del fichero q estan en mi lista de tuplas q he converido ariba leyendo el csv.) \n",
    "    cnx.commit()\n",
    "    print(mycursor.rowcount, \"registros insertados\")\n",
    "\n",
    "except mysql.connector.Error as error:\n",
    "    print(\"Error al insertar datos en MySQL:\", error)"
   ]
  },
  {
   "cell_type": "markdown",
   "metadata": {},
   "source": [
    "### TABLA 2 "
   ]
  },
  {
   "cell_type": "code",
   "execution_count": 3,
   "metadata": {},
   "outputs": [
    {
     "data": {
      "text/html": [
       "<div>\n",
       "<style scoped>\n",
       "    .dataframe tbody tr th:only-of-type {\n",
       "        vertical-align: middle;\n",
       "    }\n",
       "\n",
       "    .dataframe tbody tr th {\n",
       "        vertical-align: top;\n",
       "    }\n",
       "\n",
       "    .dataframe thead th {\n",
       "        text-align: right;\n",
       "    }\n",
       "</style>\n",
       "<table border=\"1\" class=\"dataframe\">\n",
       "  <thead>\n",
       "    <tr style=\"text-align: right;\">\n",
       "      <th></th>\n",
       "      <th>user_score</th>\n",
       "      <th>pk_score</th>\n",
       "      <th>pn_score</th>\n",
       "      <th>sk_score</th>\n",
       "      <th>name_w</th>\n",
       "    </tr>\n",
       "  </thead>\n",
       "  <tbody>\n",
       "    <tr>\n",
       "      <th>0</th>\n",
       "      <td>4.2</td>\n",
       "      <td>93.0</td>\n",
       "      <td>92.0</td>\n",
       "      <td>NaN</td>\n",
       "      <td>Ultreia Saint Jacques</td>\n",
       "    </tr>\n",
       "    <tr>\n",
       "      <th>1</th>\n",
       "      <td>4.5</td>\n",
       "      <td>NaN</td>\n",
       "      <td>92.0</td>\n",
       "      <td>NaN</td>\n",
       "      <td>José Pariente Verdejo</td>\n",
       "    </tr>\n",
       "    <tr>\n",
       "      <th>2</th>\n",
       "      <td>4.6</td>\n",
       "      <td>NaN</td>\n",
       "      <td>92.0</td>\n",
       "      <td>93.0</td>\n",
       "      <td>Tinto Pesquera Crianza</td>\n",
       "    </tr>\n",
       "  </tbody>\n",
       "</table>\n",
       "</div>"
      ],
      "text/plain": [
       "   user_score  pk_score  pn_score  sk_score                  name_w\n",
       "0         4.2      93.0      92.0       NaN   Ultreia Saint Jacques\n",
       "1         4.5       NaN      92.0       NaN   José Pariente Verdejo\n",
       "2         4.6       NaN      92.0      93.0  Tinto Pesquera Crianza"
      ]
     },
     "execution_count": 3,
     "metadata": {},
     "output_type": "execute_result"
    }
   ],
   "source": [
    "#DATA FRAME DE LA TABLA 2 - FICHA PERSONAL \n",
    "df_tabla2 = df[[\"user_score\",\"pk_score\", \"pn_score\", \"sk_score\", \"name_w\"]]\n",
    "df_tabla2.head(3)"
   ]
  },
  {
   "cell_type": "code",
   "execution_count": 4,
   "metadata": {},
   "outputs": [],
   "source": [
    "df_tabla2 = df_tabla2.fillna(0)"
   ]
  },
  {
   "cell_type": "code",
   "execution_count": 5,
   "metadata": {},
   "outputs": [],
   "source": [
    "lista_tuplas_tabla = []\n",
    "for x in df_tabla2.values:\n",
    "\n",
    "    lista_tuplas_tabla.append(tuple(x))\n",
    "    lista_tuplas_tabla"
   ]
  },
  {
   "cell_type": "code",
   "execution_count": 34,
   "metadata": {},
   "outputs": [
    {
     "data": {
      "text/plain": [
       "user_score    float64\n",
       "pk_score      float64\n",
       "pn_score      float64\n",
       "sk_score      float64\n",
       "name_w         object\n",
       "dtype: object"
      ]
     },
     "execution_count": 34,
     "metadata": {},
     "output_type": "execute_result"
    }
   ],
   "source": [
    "df_tabla2.dtypes"
   ]
  },
  {
   "cell_type": "code",
   "execution_count": 6,
   "metadata": {},
   "outputs": [
    {
     "name": "stdout",
     "output_type": "stream",
     "text": [
      "799 registros insertados\n"
     ]
    }
   ],
   "source": [
    "cnx = mysql.connector.connect (user = \"root\", \n",
    "                               password = \"AlumnaAdalab\", \n",
    "                               host='127.0.0.1',\n",
    "                               database=\"the_wine_lab\")\n",
    "\n",
    "mycursor = cnx.cursor()\n",
    "\n",
    "query_insert = \"INSERT INTO 2_scoring (user_score, pk_score, pn_score, sk_score, 1_wine_info_name_w) VALUES ( %s, %s, %s, %s, %s)\"\n",
    "#variables en el mismo orden que scsv, tantas %s como variables tiene mi csv. \n",
    "\n",
    "\n",
    "try: \n",
    "    mycursor.executemany(query_insert, lista_tuplas_tabla)\n",
    "    #ejecuta my query, de que datos? del fichero q estan en mi lista de tuplas q he converido ariba leyendo el csv.) \n",
    "    cnx.commit()\n",
    "    print(mycursor.rowcount, \"registros insertados\")\n",
    "\n",
    "except mysql.connector.Error as error:\n",
    "    print(\"Error al insertar datos en MySQL:\", error)"
   ]
  },
  {
   "cell_type": "code",
   "execution_count": 19,
   "metadata": {},
   "outputs": [
    {
     "data": {
      "text/plain": [
       "name_w              object\n",
       "year_w              object\n",
       "price              float64\n",
       "user_score         float64\n",
       "type_w              object\n",
       "region              object\n",
       "alcohol_content    float64\n",
       "wine_grape          object\n",
       "pk_score           float64\n",
       "pn_score           float64\n",
       "sk_score           float64\n",
       "dtype: object"
      ]
     },
     "execution_count": 19,
     "metadata": {},
     "output_type": "execute_result"
    }
   ],
   "source": [
    "df.dtypes"
   ]
  },
  {
   "cell_type": "code",
   "execution_count": 7,
   "metadata": {},
   "outputs": [],
   "source": [
    "df.to_csv('../Manual/Files/sql_upload.csv')"
   ]
  }
 ],
 "metadata": {
  "kernelspec": {
   "display_name": "base",
   "language": "python",
   "name": "python3"
  },
  "language_info": {
   "codemirror_mode": {
    "name": "ipython",
    "version": 3
   },
   "file_extension": ".py",
   "mimetype": "text/x-python",
   "name": "python",
   "nbconvert_exporter": "python",
   "pygments_lexer": "ipython3",
   "version": "3.11.5"
  },
  "orig_nbformat": 4
 },
 "nbformat": 4,
 "nbformat_minor": 2
}
